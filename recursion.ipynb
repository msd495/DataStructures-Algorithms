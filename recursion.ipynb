{
 "cells": [
  {
   "cell_type": "code",
   "execution_count": null,
   "metadata": {},
   "outputs": [],
   "source": [
    "def print_1_to_n(num):\n",
    "    #base condition\n",
    "    if num == 0:\n",
    "        return ;\n",
    "    #hypothesis generation\n",
    "    print_1_to_n(num-1)\n",
    "    #Induction based step\n",
    "    print(num)\n",
    "    return "
   ]
  },
  {
   "cell_type": "code",
   "execution_count": null,
   "metadata": {
    "scrolled": true
   },
   "outputs": [],
   "source": [
    "num=5\n",
    "print_1_to_n(num)"
   ]
  },
  {
   "cell_type": "code",
   "execution_count": null,
   "metadata": {},
   "outputs": [],
   "source": [
    "def print_n_to_1(num):\n",
    "    if num == 0:\n",
    "        return \n",
    "    print(num)\n",
    "    #hypothesis step\n",
    "    print_n_to_1(num-1)\n",
    "    print(\"num\",num,\"aabc\")\n",
    "    return "
   ]
  },
  {
   "cell_type": "code",
   "execution_count": null,
   "metadata": {
    "scrolled": true
   },
   "outputs": [],
   "source": [
    "num=5\n",
    "print_n_to_1(num)"
   ]
  },
  {
   "cell_type": "code",
   "execution_count": null,
   "metadata": {},
   "outputs": [],
   "source": [
    "from binarytree import build \n",
    "nodes =[3, 6, 8, 2, 11, None, 13] \n",
    "binary_tree = build(nodes)\n",
    "print('Binary tree from list :\\n', binary_tree) "
   ]
  },
  {
   "cell_type": "code",
   "execution_count": null,
   "metadata": {},
   "outputs": [],
   "source": [
    "from binarytree import Node\n",
    "root = Node(3) \n",
    "root.left = Node(6) \n",
    "root.right = Node(8) \n",
    "root.left.left = Node(2)\n",
    "root.left.right = Node(7)\n",
    "root.left.left.left = Node(13)\n",
    "print(root)\n",
    "print(\"height of tree is \"+str(root.height))"
   ]
  },
  {
   "cell_type": "code",
   "execution_count": null,
   "metadata": {},
   "outputs": [],
   "source": [
    "#find height of tree using hypothesis generation\n",
    "#lh,rh=0,0\n",
    "def get_height(root):\n",
    "    #global left,right\n",
    "    #smallest valid input\n",
    "    if root is None:\n",
    "        return 0;\n",
    "    \n",
    "    #hypothesis\n",
    "    \n",
    "    lh=get_height(root.left)\n",
    "    \n",
    "    rh=get_height(root.right)\n",
    "    \n",
    "    #induction step\n",
    "    return 1+max(lh,rh)"
   ]
  },
  {
   "cell_type": "code",
   "execution_count": null,
   "metadata": {},
   "outputs": [],
   "source": [
    "get_height(root)"
   ]
  },
  {
   "cell_type": "code",
   "execution_count": null,
   "metadata": {},
   "outputs": [],
   "source": [
    "#sort an array using recursion\n",
    "def sort_arr(arr,n):\n",
    "    #base condition\n",
    "    print(\"before arr is \"+str(arr))\n",
    "    if n == 0:\n",
    "        return arr\n",
    "    #remove the element and put in temp variable\n",
    "    temp = arr.pop(n-1)\n",
    "    #hypothesis design \n",
    "    sort_arr(arr,len(arr))\n",
    "    #induction step(put temp in correct position)\n",
    "    put_index(arr,temp)\n",
    "    print(\"after arr is \"+str(arr))\n",
    "    return arr"
   ]
  },
  {
   "cell_type": "code",
   "execution_count": null,
   "metadata": {},
   "outputs": [],
   "source": [
    "def put_index(arr,temp):\n",
    "    if len(arr) == 0 or arr[len(arr)-1] < temp:\n",
    "        arr[:]=arr+[temp]\n",
    "    else:\n",
    "        for item in range(0,len(arr)):\n",
    "            if arr[item]>temp:\n",
    "                arr[:]= arr[:item]+[temp]+arr[item:]\n",
    "    return arr"
   ]
  },
  {
   "cell_type": "code",
   "execution_count": null,
   "metadata": {},
   "outputs": [],
   "source": [
    "print(\"arr is \"+str(sort_arr([2,1,3],3)))"
   ]
  },
  {
   "cell_type": "code",
   "execution_count": null,
   "metadata": {},
   "outputs": [],
   "source": [
    "#kth symbol in grammar\n",
    "def generate_kth_symbol(n,k):\n",
    "    if n==1 and k==1 :\n",
    "        return 0\n",
    "    #hypothesis generation\n",
    "    no_element = pow(2,n)//2\n",
    "    mid = no_element//2\n",
    "    \n",
    "    if k <= mid :\n",
    "        return generate_kth_symbol(n-1,k)\n",
    "    else:\n",
    "        return int(not generate_kth_symbol(n-1,k-mid))\n",
    "    return"
   ]
  },
  {
   "cell_type": "code",
   "execution_count": null,
   "metadata": {},
   "outputs": [],
   "source": [
    "print(generate_kth_symbol(3,4))"
   ]
  },
  {
   "cell_type": "code",
   "execution_count": null,
   "metadata": {},
   "outputs": [],
   "source": [
    "def solve(n,s,d,h):\n",
    "    global count\n",
    "    count+=1\n",
    "    #base case\n",
    "    if n == 1:\n",
    "        print(\"Moving plate \"+str(n) +\" from \"+ s +\" to \" +d)\n",
    "        return count\n",
    "    solve(n-1,s,h,d)\n",
    "    #induction step\n",
    "    print(\"Moving plate \"+str(n) +\" from \"+ s +\" to \" +d)\n",
    "    solve(n-1,h,d,s)\n",
    "    return count"
   ]
  },
  {
   "cell_type": "code",
   "execution_count": null,
   "metadata": {},
   "outputs": [],
   "source": [
    "#Tower of hanoi\n",
    "count=0\n",
    "no_plates=3\n",
    "s=\"s\" #source\n",
    "h=\"h\" #helper\n",
    "d=\"d\" #destination\n",
    "print(\"Total no os steps involved is \"+str(solve(no_plates,s,d,h)))"
   ]
  },
  {
   "cell_type": "code",
   "execution_count": null,
   "metadata": {},
   "outputs": [],
   "source": [
    "#print all subsets/subsequence\n",
    "def get_subsets(ip,op):\n",
    "    global li\n",
    "    if len(ip) == 0:\n",
    "        li.append(op)\n",
    "        return li\n",
    "    op1 = op\n",
    "    op2 = op+list(ip)[0]\n",
    "    ip  = ip[1:]\n",
    "    get_subsets(ip,op1)\n",
    "    get_subsets(ip,op2)\n",
    "    return li"
   ]
  },
  {
   "cell_type": "code",
   "execution_count": null,
   "metadata": {},
   "outputs": [],
   "source": [
    "li = []\n",
    "print(get_subsets(\"abc\",\"\"))"
   ]
  },
  {
   "cell_type": "code",
   "execution_count": null,
   "metadata": {},
   "outputs": [],
   "source": [
    "#permutation with spaces\n",
    "def get_permutation_with_space(ip,op):\n",
    "    global li_space\n",
    "    if len(ip) == 0:\n",
    "        li_space.append(op)\n",
    "        return li_space\n",
    "    op1 = op+list(ip)[0] #without space\n",
    "    op2 = op+\" \"+list(ip)[0] \n",
    "    ip = ip[1:]\n",
    "    get_permutation_with_space(ip,op1)\n",
    "    get_permutation_with_space(ip,op2)\n",
    "    return li_space"
   ]
  },
  {
   "cell_type": "code",
   "execution_count": null,
   "metadata": {},
   "outputs": [],
   "source": [
    "li_space=[]\n",
    "print(get_permutation_with_space(\"bc\",\"a\"))"
   ]
  },
  {
   "cell_type": "code",
   "execution_count": null,
   "metadata": {},
   "outputs": [],
   "source": [
    "def check(li):\n",
    "    li.append(2)\n",
    "    li.append(3)\n",
    "    double_check(li)\n",
    "    return li\n",
    "def double_check(lk):\n",
    "    lk=[5]\n",
    "    return lk\n",
    "print(check([]))"
   ]
  },
  {
   "cell_type": "code",
   "execution_count": null,
   "metadata": {},
   "outputs": [],
   "source": [
    "#for boolean question , try to write and condition for induction step (x and y)\n",
    "def check_sort_arr(arr):\n",
    "    if len(arr) == 1 :\n",
    "        return True\n",
    "    if arr[0] > arr[1]:\n",
    "        return False\n",
    "    return check_sort_arr(arr[1:])"
   ]
  },
  {
   "cell_type": "code",
   "execution_count": null,
   "metadata": {},
   "outputs": [],
   "source": [
    "sorted_arr=[1,2,4,3]\n",
    "check_sort_arr(sorted_arr)"
   ]
  },
  {
   "cell_type": "code",
   "execution_count": null,
   "metadata": {},
   "outputs": [],
   "source": [
    "#Given a value n , print all the binary strings of size n which have no consecutive 1s\n",
    "#n=3\n",
    "#all possible strings 000,001,010,011,100,101,110,111\n",
    "#answer 000,001,010,100,101\n",
    "#also find no of possible strings which have no consecuteve 1s\n",
    "def print_strings(arr,i,n):\n",
    "    if i == n:\n",
    "        print(*arr[:n],sep=\"\",end=\" \")\n",
    "        return \n",
    "    if arr[i-1] == 1:\n",
    "        arr[i]=0\n",
    "        print_strings(arr,i+1,n)\n",
    "    elif arr[i-1] == 0:\n",
    "        arr[i] = 1\n",
    "        print_strings(arr,i+1,n)\n",
    "        arr[i] = 0\n",
    "        print_strings(arr,i+1,n)"
   ]
  },
  {
   "cell_type": "code",
   "execution_count": null,
   "metadata": {},
   "outputs": [],
   "source": [
    "arr=[0,0,0]\n",
    "print(print_strings(arr,1,len(arr)))\n",
    "arr[0]=1\n",
    "print(print_strings(arr,1,len(arr)))"
   ]
  },
  {
   "cell_type": "code",
   "execution_count": null,
   "metadata": {},
   "outputs": [],
   "source": [
    "#generate all subsets of array \n",
    "def subset_arr(arr,i,n,res):\n",
    "    if i == n:\n",
    "        print(\"[\",res,\"]\",sep=\"\",end=\" \")\n",
    "        return \n",
    "    #include the element\n",
    "    subset_arr(arr,i+1,n,res+str(arr[i]))\n",
    "    #exclude the element\n",
    "    subset_arr(arr,i+1,n,res)"
   ]
  },
  {
   "cell_type": "code",
   "execution_count": null,
   "metadata": {
    "scrolled": true
   },
   "outputs": [],
   "source": [
    "temp =[1,2,3]\n",
    "print(subset_arr(temp,0,len(arr),\"\"))"
   ]
  },
  {
   "cell_type": "code",
   "execution_count": null,
   "metadata": {},
   "outputs": [],
   "source": [
    "def print_pattern(n,i):\n",
    "    if n==0:\n",
    "        return \n",
    "    #for item in range(0,i):\n",
    "        #print(\"*\",sep=\"\",end=\" \")\n",
    "    #replace with recursion\n",
    "    if i<n:\n",
    "        print(\"*\",sep=\"\",end=\" \")\n",
    "        print_pattern(n,i+1)\n",
    "    else:\n",
    "        print()\n",
    "        print_pattern(n-1,0)\n",
    "    return\n",
    "print_pattern(5,0)"
   ]
  },
  {
   "cell_type": "code",
   "execution_count": null,
   "metadata": {},
   "outputs": [],
   "source": [
    "def print_pattern_reverse(n,i,k):\n",
    "    if n==k:\n",
    "        return \n",
    "    if i < n:\n",
    "        print(\"*\",sep=\"\",end=\" \")\n",
    "        print_pattern_reverse(n,i+1,k)\n",
    "    else:\n",
    "        print()\n",
    "        print_pattern_reverse(n+1,0,k)\n",
    "print_pattern_reverse(1,0,5)"
   ]
  },
  {
   "cell_type": "code",
   "execution_count": null,
   "metadata": {},
   "outputs": [],
   "source": [
    "#can move only right or down\n",
    "def mazePath(i,j,m,n,osf):\n",
    "    if i == m-1 and j == n-1:\n",
    "        print(osf)\n",
    "        return \n",
    "    if i>=m or j >=n:\n",
    "        return \n",
    "    mazePath(i+1,j,m,n,osf+\"R->\")\n",
    "    mazePath(i,j+1,m,n,osf+\"D->\")\n",
    "    return "
   ]
  },
  {
   "cell_type": "code",
   "execution_count": null,
   "metadata": {},
   "outputs": [],
   "source": [
    "mazePath(0,0,3,3,\"\")"
   ]
  },
  {
   "cell_type": "code",
   "execution_count": null,
   "metadata": {},
   "outputs": [],
   "source": [
    "#reach (n-1)th cell after jump\n",
    "#can make 1,2,3,4,5,6 jump\n",
    "def njump(i,n,osf):\n",
    "    if i >=n:\n",
    "        return \n",
    "    if i==n-1:\n",
    "        print(osf)\n",
    "        return \n",
    "    for item in range(1,n+1):\n",
    "        njump(i+item,n,osf+str(item))\n",
    "    #njump(i+2,n,osf+\"2\")\n",
    "    #njump(i+3,n,osf+\"3\")\n",
    "    #njump(i+4,n,osf+\"4\")\n",
    "    #njump(i+5,n,osf+\"5\")\n",
    "    #njump(i+6,n,osf+\"6\")"
   ]
  },
  {
   "cell_type": "code",
   "execution_count": null,
   "metadata": {
    "scrolled": true
   },
   "outputs": [],
   "source": [
    "njump(0,6,\"\")"
   ]
  },
  {
   "cell_type": "code",
   "execution_count": null,
   "metadata": {},
   "outputs": [],
   "source": [
    "#permutation of string\n",
    "def permutation(string,res,n):\n",
    "    if len(res) == n:\n",
    "        print(res)\n",
    "        return \n",
    "    else:\n",
    "        for i in range(0,len(string)):\n",
    "            ros=string.replace(string[i],'')\n",
    "            permutation(ros,res+string[i],n)\n",
    "permutation(\"abc\",\"\",3)"
   ]
  },
  {
   "cell_type": "code",
   "execution_count": null,
   "metadata": {},
   "outputs": [],
   "source": [
    "def toString(List):\n",
    "    return ''.join(List)\n",
    "def permute(a, l, r):\n",
    "    if l==r:\n",
    "        print (toString(a))\n",
    "    for i in range(l,r+1):\n",
    "        a[l], a[i] = a[i], a[l]\n",
    "        permute(a, l+1, r)\n",
    "        a[l], a[i] = a[i], a[l] # backtrack\n",
    "\n",
    "# Driver program to test the above function\n",
    "string = \"ABC\"\n",
    "n = len(string)\n",
    "a = list(string)\n",
    "permute(a, 0, n-1)"
   ]
  },
  {
   "cell_type": "code",
   "execution_count": null,
   "metadata": {},
   "outputs": [],
   "source": [
    "#rat maze problem\n",
    "#if in matrix path is 0 then its blocked\n",
    "#can move up,down,left,right so its probkem of backtracking\n",
    "#rat has to reach (m-1,n-1)\n",
    "def isSafe(i,j,n,visited,arr):\n",
    "    if i==-1 or j== -1 or i==n or j==n or visited[i][j] or arr[i][j]==0 :\n",
    "        return False\n",
    "    return True\n",
    "def printPath(arr,n,i,j,osf,visited):\n",
    "    global count\n",
    "    #base case\n",
    "    if i==n-1 and j==n-1:\n",
    "        count+=1\n",
    "        print(osf)\n",
    "        return \n",
    "    #crossed the maze\n",
    "    if i==-1 or j== -1 or i==n or j==n or visited[i][j] or arr[i][j]==0 :\n",
    "        return \n",
    "    #mark visited condition\n",
    "    visited[i][j] = True\n",
    "    \n",
    "    #recursion\n",
    "    if isSafe(i-1,j,n,visited,arr):\n",
    "        printPath(arr,n,i-1,j,osf+\"U\",visited)#move up\n",
    "    if isSafe(i+1,j,n,visited,arr):\n",
    "        printPath(arr,n,i+1,j,osf+\"D\",visited)#move down\n",
    "    if isSafe(i,j-1,n,visited,arr):\n",
    "        printPath(arr,n,i,j-1,osf+\"L\",visited)#move left\n",
    "    if isSafe(i,j+1,n,visited,arr):\n",
    "        printPath(arr,n,i,j+1,osf+\"R\",visited)#move right\n",
    "    \n",
    "    #undo function\n",
    "    visited[i][j] = False\n",
    "    return count"
   ]
  },
  {
   "cell_type": "code",
   "execution_count": null,
   "metadata": {},
   "outputs": [],
   "source": [
    "count =0\n",
    "arr = [ [ 1, 0, 0, 0, 0 ],\n",
    "      [ 1, 1, 1, 1, 1 ],\n",
    "      [ 1, 1, 1, 0, 1 ],\n",
    "      [ 0, 0, 0, 0, 1 ],\n",
    "      [ 0, 0, 0, 0, 1 ] ]\n",
    "n = len(arr)\n",
    "visited_arr=[[False for item in range(0,n)] for i in range(0,n)]\n",
    "printPath(arr, n,0,0,\"\",visited_arr)"
   ]
  },
  {
   "cell_type": "code",
   "execution_count": null,
   "metadata": {},
   "outputs": [],
   "source": [
    "def isSafeMat(board,row,col):\n",
    "    #checking in same row\n",
    "    r=row\n",
    "    c=col-1\n",
    "    while c>=0:\n",
    "        if board[r][c]:\n",
    "            return False\n",
    "        c=c-1\n",
    "    #checking in same col\n",
    "    r=row-1\n",
    "    c=col\n",
    "    while r>=0:\n",
    "        if board[r][c]:\n",
    "            return False\n",
    "        r=r-1\n",
    "    #checking left diagonal\n",
    "    r=row-1\n",
    "    c=col-1\n",
    "    while r>=0 and c>=0 :\n",
    "        if board[r][c]:\n",
    "            return False\n",
    "        r=r-1\n",
    "        c=c-1\n",
    "    #checking right diagonal\n",
    "    r=row-1\n",
    "    c=col+1\n",
    "    while r>=0 and c<len(board[0]) :\n",
    "        if board[r][c]:\n",
    "            return False\n",
    "        r=r-1\n",
    "        c=c+1\n",
    "    return True\n",
    "#Nqueen problem\n",
    "def solveNQ(board,row,col,tq,qpsf,opsf):\n",
    "    #base case\n",
    "    print(\"row->\",row,\"col->\",col)\n",
    "    if tq==qpsf:\n",
    "        print(opsf)\n",
    "        return \n",
    "    if col == len(board[0]):\n",
    "        row+=1\n",
    "        col=0\n",
    "    if row == len(board):\n",
    "        return \n",
    "    if isSafeMat(board,row,col) == True:\n",
    "        #print(\"inside this\",row,col)\n",
    "        #backtracking steps\n",
    "        board[row][col] = True\n",
    "        #recursion step\n",
    "        solveNQ(board,row,col+1,tq,qpsf+1,opsf+\"[\"+str(row)+str(col)+\"]\")\n",
    "        #undo step in backtracking\n",
    "        board[row][col] = False\n",
    "    #not safe\n",
    "    solveNQ(board,row,col+1,tq,qpsf,opsf) "
   ]
  },
  {
   "cell_type": "code",
   "execution_count": null,
   "metadata": {},
   "outputs": [],
   "source": [
    "board = [[False for item in range(0,2)] for item in range(0,2)]\n",
    "solveNQ(board,0,0,1,0,\"\")\n",
    "print(board)"
   ]
  },
  {
   "cell_type": "code",
   "execution_count": null,
   "metadata": {},
   "outputs": [],
   "source": [
    "def recur(n):\n",
    "    if n==1:\n",
    "        print(1)\n",
    "        return\n",
    "    else:\n",
    "        print(n)\n",
    "        recur(n-1)\n",
    "        print(n)\n",
    "recur(5)"
   ]
  },
  {
   "cell_type": "code",
   "execution_count": null,
   "metadata": {},
   "outputs": [],
   "source": [
    "#Check if a word exists in a grid or not\n",
    "def recurAllDirections(arr,word,i,row,col):\n",
    "    print(\"row-> \",row,\" col-> \",col,\" i \",i)\n",
    "    if i==len(word):\n",
    "        return True\n",
    "    if row >=len(arr) or col >= len(arr[0]) or row <0 or col<0:\n",
    "        return False\n",
    "    #do step of backtracking\n",
    "    if arr[row][col] == word[i]: \n",
    "        temp=arr[row][col]\n",
    "        arr[row][col]=\"$\"\n",
    "        print(\"from right\")\n",
    "        right=recurAllDirections(arr,word,i+1,row+1,col)#right\n",
    "        print(\"from left\",i,row,col)\n",
    "        left=recurAllDirections(arr,word,i+1,row-1,col)#left\n",
    "        print(\"from down\")\n",
    "        down=recurAllDirections(arr,word,i+1,row,col+1)#down\n",
    "        print(\"from up\")\n",
    "        up=recurAllDirections(arr,word,i+1,row,col-1)#up\n",
    "        #undo step of backtracking\n",
    "        arr[row][col]=temp\n",
    "        print(\"final return \",\"right =\",right,\" left =\",left,\" down=\",down,\" up=\",up)\n",
    "        return (right or left or down or up)\n",
    "    else:\n",
    "        print(\"returned false\")\n",
    "        return False\n",
    "def checkMatch(arr,word,row,col):\n",
    "    for i in range(0,len(arr)):\n",
    "        for j in range(0,len(arr[0])):\n",
    "            if arr[i][j] == word[0]:\n",
    "                return recurAllDirections(arr,word,0,i,j)\n",
    "    return False"
   ]
  },
  {
   "cell_type": "code",
   "execution_count": null,
   "metadata": {},
   "outputs": [],
   "source": [
    "arr=[\n",
    "    [\"a\",\"x\"],\n",
    "    [\"b\",\"g\"]\n",
    "]\n",
    "checkMatch(arr,\"abg\",0,0)"
   ]
  },
  {
   "cell_type": "code",
   "execution_count": null,
   "metadata": {},
   "outputs": [],
   "source": [
    "#Cycle in graph problem\n",
    "from collections import defaultdict\n",
    "class Graph():\n",
    "    def __init__(self,vertices):\n",
    "        self.graph = defaultdict(list)\n",
    "        self.V = vertices\n",
    "  \n",
    "    def addEdge(self,u,v):\n",
    "        self.graph[u].append(v)\n",
    "        \n",
    "    def isCyclicUtil(self, v, visited,parentDict):\n",
    "        \n",
    "        visited[v]=True\n",
    "        #recurse for all the neighbors\n",
    "        for neighbour in self.graph[v]:\n",
    "            parentDict[neighbour]=v\n",
    "            if visited[neighbour] == False:\n",
    "                if self.isCyclicUtil(neighbour, visited,parentDict) == True:\n",
    "                    return True\n",
    "            elif parentDict[v] != v:\n",
    "                print(\"cycle in path \",parentDict[v],\"->\",v)\n",
    "                return True\n",
    "        #visited[v]=False\n",
    "        return False\n",
    "    \n",
    "    def isCyclic(self):\n",
    "        visited = [False] * self.V\n",
    "        parentDict = dict()\n",
    "        for node in range(self.V):\n",
    "            if visited[node] == False:\n",
    "                if self.isCyclicUtil(node,visited,parentDict) == True:\n",
    "                    return True\n",
    "        return False\n",
    "    "
   ]
  },
  {
   "cell_type": "code",
   "execution_count": null,
   "metadata": {},
   "outputs": [],
   "source": [
    "g = Graph(4)\n",
    "g.addEdge(0, 1)\n",
    "g.addEdge(0, 2)\n",
    "g.addEdge(1, 2)\n",
    "g.addEdge(2, 0)\n",
    "g.addEdge(2, 3)\n",
    "g.addEdge(3, 3)\n",
    "print(g.graph)\n",
    "if g.isCyclic() == 1:\n",
    "    print (\"Graph has a cycle\")\n",
    "else:\n",
    "    print (\"Graph has no cycle\")"
   ]
  },
  {
   "cell_type": "code",
   "execution_count": null,
   "metadata": {},
   "outputs": [],
   "source": [
    "#permutation of string with repetition\n",
    "s=set()\n",
    "def permute_string_with_repetion(word,l,r):\n",
    "    if l == r:\n",
    "        s.add(\"\".join(word))\n",
    "        print(word)\n",
    "        return \n",
    "    \n",
    "    for item in range(l,r):\n",
    "        word[item],word[l]=word[l],word[item]\n",
    "        if \"\".join(word) not in s:\n",
    "            permute_string_with_repetion(word,l+1,r)\n",
    "        word[item],word[l]=word[l],word[item]    \n",
    "permute_string_with_repetion(['a','c','a'],0,3)"
   ]
  },
  {
   "cell_type": "code",
   "execution_count": null,
   "metadata": {
    "scrolled": true
   },
   "outputs": [],
   "source": [
    "#print checkerboard pattern\n",
    "for j in range(0,8):\n",
    "    if j%2==0:\n",
    "        x=0\n",
    "    else:\n",
    "        x=1\n",
    "    for item in range(0,8):\n",
    "        print(x,sep=\"\",end=\" \")\n",
    "        x=1-x\n",
    "    print()"
   ]
  },
  {
   "cell_type": "code",
   "execution_count": null,
   "metadata": {},
   "outputs": [],
   "source": [
    "#print diamond pattern\n",
    "n=5\n",
    "for item in range(0,n):\n",
    "    print((n-item-1) * \" \",end=\"\")\n",
    "    for j in range(0,item+1):\n",
    "        print(\"*\",end=\" \")\n",
    "    print()\n",
    "p=n-1\n",
    "for item in range(p,0,-1):\n",
    "    print((n-item) * \" \",end=\"\")\n",
    "    for j in range(0,item):\n",
    "        print(\"*\",end=\" \")\n",
    "    print()"
   ]
  },
  {
   "cell_type": "code",
   "execution_count": null,
   "metadata": {},
   "outputs": [],
   "source": [
    "#possible operations are:\n",
    "#n-1,n/2,n/3\n",
    "#using_div3=999999\n",
    "hashmap={}\n",
    "def min_steps_to_reach_1(n):\n",
    "    #print(\"n is \",n)\n",
    "    global hashmap\n",
    "    if n <=1:\n",
    "        return 0\n",
    "    if n in hashmap:\n",
    "        return hashmap[n] \n",
    "    using_sub=1+min_steps_to_reach_1(n-1)\n",
    "    using_div2=1+min_steps_to_reach_1(n//2)\n",
    "    using_div3=1+min_steps_to_reach_1(n//3)\n",
    "    min_steps=min(using_sub,using_div2)\n",
    "    min_steps=min(min_steps,using_div3)\n",
    "    hashmap[n]=min_steps\n",
    "    return min_steps\n",
    "print(min_steps_to_reach_1(10))"
   ]
  },
  {
   "cell_type": "code",
   "execution_count": null,
   "metadata": {},
   "outputs": [],
   "source": [
    "#minimum path sum\n",
    "#given a matrix you have to reach from top left to bottom right following path with least cost\n",
    "#constraint : right,down\n",
    "data_dict={}\n",
    "temp=0\n",
    "def min_path_sum(mat,i,j,n):\n",
    "    global temp,min_sum\n",
    "    if i == n-1 and j==n-1:\n",
    "        return mat[i][j]\n",
    "    if i >= len(mat[0]) or j >= len(mat):\n",
    "        return 99999\n",
    "    if (str(i)+\",\"+str(j)) in data_dict:\n",
    "        return data_dict[str(i)+\",\"+str(j)]\n",
    "    move_right = min_path_sum(mat,i+1,j,n)\n",
    "    move_down = min_path_sum(mat,i,j+1,n)\n",
    "    #move_diagonally = min_path_sum(mat,i+1,j+1,n)\n",
    "    temp = mat[i][j] + min(move_right,move_down)\n",
    "    data_dict[str(i)+\",\"+str(j)]=temp\n",
    "    return temp\n",
    "print(min_path_sum([[1,3,1],[1,5,1],[4,2,1]],0,0,3))"
   ]
  },
  {
   "cell_type": "code",
   "execution_count": null,
   "metadata": {},
   "outputs": [],
   "source": [
    "#unique path from top left to bottom right\n",
    "global_dict={}\n",
    "def no_unique_path_top_bottom(i,j,m,n):\n",
    "    global global_dict\n",
    "    #base case\n",
    "    if i==m-1 and j==n-1:\n",
    "        return 1\n",
    "    if i >= m or j >= n:\n",
    "        return 0\n",
    "    if (str(i)+\"#\"+str(j)) in global_dict:\n",
    "        return global_dict[str(i)+\"#\"+str(j)]\n",
    "    move_right=no_unique_path_top_bottom(i,j+1,m,n)#right\n",
    "    move_bottom=no_unique_path_top_bottom(i+1,j,m,n)#bottom\n",
    "    global_dict[str(i)+\"#\"+str(j)]=move_right+move_bottom\n",
    "    return move_right+move_bottom\n",
    "print(no_unique_path_top_bottom(0,0,3,3))"
   ]
  },
  {
   "cell_type": "code",
   "execution_count": null,
   "metadata": {},
   "outputs": [],
   "source": [
    "def generate_max_profit_frm_knapsack(weight,value,capacity,i):\n",
    "    if i >= len(weight) or capacity==0:\n",
    "        return 0\n",
    "    if weight[i] > capacity:\n",
    "        return generate_max_profit_frm_knapsack(weight,value,capacity,i+1)\n",
    "    not_include=generate_max_profit_frm_knapsack(weight,value,capacity,i+1)\n",
    "    include=value[i]+generate_max_profit_frm_knapsack(weight,value,capacity-weight[i],i+1)\n",
    "    max_profit=max(not_include,include)\n",
    "    return max_profit\n",
    "val = [60, 100, 120]\n",
    "wt = [10, 20, 30]\n",
    "W = 60\n",
    "print(generate_max_profit_frm_knapsack(wt,val,W,0))"
   ]
  },
  {
   "cell_type": "code",
   "execution_count": null,
   "metadata": {},
   "outputs": [],
   "source": [
    "#same as unbounded knapsack\n",
    "def rod_cutting_recursion(weight,value,capacity,i):\n",
    "    if capacity==0:\n",
    "        return 0\n",
    "    if i >= len(weight) :\n",
    "        return -99999999999\n",
    "    if weight[i] > capacity:\n",
    "        return rod_cutting_recursion(weight,value,capacity,i+1)\n",
    "    not_include=rod_cutting_recursion(weight,value,capacity,i+1)\n",
    "    include=value[i]+rod_cutting_recursion(weight,value,capacity-weight[i],i)#we have to include current element also\n",
    "    max_profit=max(not_include,include)\n",
    "    return max_profit\n",
    "val=[1, 5, 8, 9, 10, 17, 17, 20]\n",
    "wt=[1,2,3,4,5,6,7,8]\n",
    "W=8\n",
    "print(rod_cutting_recursion(wt,val,W,0))"
   ]
  },
  {
   "cell_type": "code",
   "execution_count": null,
   "metadata": {},
   "outputs": [],
   "source": [
    "#house robber problem\n",
    "#robber can't rob any two adjacent house\n",
    "def house_robber(arr,n):\n",
    "    #base case \n",
    "    if len(arr)==0:\n",
    "        return 0\n",
    "    #recursive step\n",
    "    include=arr[0]+house_robber(arr[2:],n)\n",
    "    exclude=house_robber(arr[1:],n)\n",
    "    max_val=max(include,exclude)\n",
    "    return max_val\n",
    "print(house_robber([5,  5, 10, 40, 50, 35],6))"
   ]
  },
  {
   "cell_type": "code",
   "execution_count": null,
   "metadata": {},
   "outputs": [],
   "source": [
    "#no of ways to reach on top of stairs\n",
    "#constraints:jump one step or two step\n",
    "def jump_n(n,i):\n",
    "    if i==n:\n",
    "        return 1\n",
    "    if i>n:\n",
    "        return 0\n",
    "    using_1_step = jump_n(n,i+1)\n",
    "    using_2_step = jump_n(n,i+2)\n",
    "    total_ways=using_1_step+using_2_step\n",
    "    return total_ways\n",
    "print(jump_n(4,0))#starting from ground floor going upto 5"
   ]
  },
  {
   "cell_type": "code",
   "execution_count": null,
   "metadata": {},
   "outputs": [],
   "source": [
    "#quicksort\n",
    "def quicksort(arr,low,high):\n",
    "    if low < high:\n",
    "        pivot=partition(arr,low,high)\n",
    "        quicksort(arr,low,pivot-1)\n",
    "        quicksort(arr,pivot+1,high)\n",
    "#partition takes the last element as pivot and places all element less than it on left part and greater on right part"
   ]
  },
  {
   "cell_type": "code",
   "execution_count": null,
   "metadata": {},
   "outputs": [],
   "source": [
    "def partition(arr,low,high):\n",
    "    pivot=arr[high]\n",
    "    left =low\n",
    "    right=high-1\n",
    "    while left < right:\n",
    "            while arr[left] <= pivot :\n",
    "                left +=1\n",
    "            while arr[right] > pivot:\n",
    "                right-=1\n",
    "            if left<right:\n",
    "                arr[left],arr[right]=arr[right],arr[left]\n",
    "    arr[left],arr[high]=arr[high],arr[left]\n",
    "    print(arr)\n",
    "print(partition([1,8,9,5,7],0,4))"
   ]
  },
  {
   "cell_type": "code",
   "execution_count": null,
   "metadata": {},
   "outputs": [],
   "source": [
    "#reverse array inplace\n",
    "#abc and cba are anagram of each other\n",
    "dict1,dict2={},{}\n",
    "def check_anagram(str1,str2):\n",
    "    for item in str1:\n",
    "        if item in dict1:\n",
    "            dict1[item]=dict1[item]+1\n",
    "        else:\n",
    "            dict1[item]=1\n",
    "    for item in str2:\n",
    "        if item in dict2:\n",
    "            dict2[item]=dict2[item]+1\n",
    "        else:\n",
    "            dict2[item]=1\n",
    "    print(\"dict1 \",dict1)\n",
    "    print(\"dict2 \",dict2)\n",
    "    if dict1==dict2:\n",
    "        print(True)\n",
    "    else:\n",
    "        print(False)\n",
    "check_anagram(\"race\",\"care\")"
   ]
  },
  {
   "cell_type": "code",
   "execution_count": null,
   "metadata": {},
   "outputs": [],
   "source": [
    "#fractional knapsack (Greedy programming)\n",
    "weight=[10,20,30]\n",
    "value=[60,100,120]\n",
    "weight_per_value={6:[10,60],5:[20,100],4:[30,120]}\n",
    "\n",
    "def fractional_knapsack(weight,value,W,weight_per_value):\n",
    "    value_add=0\n",
    "    for item in weight_per_value:\n",
    "        if W> 0:\n",
    "            weight_value_list=weight_per_value[item]\n",
    "            if weight_value_list[0] > W:#we have to fraction it\n",
    "                    value_add=value_add+((W*weight_value_list[1])//weight_value_list[0])\n",
    "            else:\n",
    "                W=W-weight_value_list[0]\n",
    "                value_add=value_add+weight_value_list[1]\n",
    "    return value_add\n",
    "print(fractional_knapsack(weight,value,50,weight_per_value))"
   ]
  },
  {
   "cell_type": "code",
   "execution_count": null,
   "metadata": {},
   "outputs": [],
   "source": [
    "#majority element\n",
    "arr=[1,1,1,3,1,2,1,9,1,9,9,9,9,9,9,1,1,1,1,1] #elemet occuring more than n/2 times\n",
    "majority_element=0\n",
    "def majority_element(arr):\n",
    "    count=0\n",
    "    for item in range(0,len(arr)):\n",
    "        if count == 0:\n",
    "            majority_element=arr[item]\n",
    "            count+=1\n",
    "        elif majority_element == arr[item]:\n",
    "            count+=1\n",
    "        else:\n",
    "            count-=1\n",
    "    return majority_element\n",
    "print(majority_element(arr))\n",
    "#now check whether 9 occurs more than n/2 no times or not"
   ]
  },
  {
   "cell_type": "code",
   "execution_count": null,
   "metadata": {},
   "outputs": [],
   "source": [
    "#majorit element n/3 times\n",
    "def majority_element_n3(arr):\n",
    "    count1=0\n",
    "    count2=0\n",
    "    majority_element1=0\n",
    "    majority_element2=0\n",
    "    for i in range(0,len(arr)):\n",
    "        if arr[i]==majority_element1:\n",
    "            count1+=1\n",
    "        elif arr[i]==majority_element2:\n",
    "            count2+=1\n",
    "        elif count1==0:\n",
    "            majority_element1=arr[i]\n",
    "            count1+=1\n",
    "        elif count2==0:\n",
    "            majority_element2=arr[i]\n",
    "            count2+=1\n",
    "        else:\n",
    "            count1-=1\n",
    "            count2-=1\n",
    "    return [majority_element1,majority_element2]\n",
    "print(majority_element_n3(arr))\n",
    "#now check if both these elements occur more than n/3 times or not"
   ]
  },
  {
   "cell_type": "code",
   "execution_count": null,
   "metadata": {},
   "outputs": [],
   "source": [
    "#power of x to n:\n",
    "#2 power 3\n",
    "#2 power 4\n",
    "def power(x,n):\n",
    "    if n==0:\n",
    "        return 1\n",
    "    if n==1:\n",
    "        return x\n",
    "    if n<0:\n",
    "        n=-(n)\n",
    "        return 1/power(x,n)\n",
    "    if n%2==0:\n",
    "        return power(x,n//2)*power(x,n//2)\n",
    "    else:\n",
    "        return x*power(x,n//2)*power(x,n//2)\n",
    "        \n",
    "print(power(2,10))"
   ]
  },
  {
   "cell_type": "code",
   "execution_count": null,
   "metadata": {},
   "outputs": [],
   "source": [
    "#search in matrix \n",
    "arr=[\n",
    "    [1,2,3],\n",
    "    [4,5,6],\n",
    "    [7,8,9]\n",
    "]\n",
    "def search_matrix(arr,element):\n",
    "    low=0\n",
    "    high=len(arr)*len(arr[0]) -1 \n",
    "    while low <= high:\n",
    "        mid = (low+high)//2\n",
    "        print(\"low \",low,\" high \",high,\" mid \",mid)\n",
    "        row=mid//len(arr) #corresponding matrix row\n",
    "        col=mid%len(arr[0])  #corresponding matrix column\n",
    "        if element == arr[row][col]:\n",
    "            print(\" found element \",element,\" at row \",row ,\" column \",col)\n",
    "            break\n",
    "        elif element < arr[row][col]:\n",
    "            high=mid-1\n",
    "        else:\n",
    "            low=mid+1\n",
    "search_matrix(arr,4)"
   ]
  },
  {
   "cell_type": "markdown",
   "metadata": {},
   "source": [
    "# clockwise and anticlockwose rotation can be formed by just taking transpose of array and performing reverse operation"
   ]
  },
  {
   "cell_type": "code",
   "execution_count": null,
   "metadata": {},
   "outputs": [],
   "source": [
    "#rotate image clockwise\n",
    "arr=[[1,2,3],[4,5,6],[7,8,9]]\n",
    "#rotetd arr=[[7,4,1],[8,5,2],[9,6,3]]\n",
    "def rotated_clockwise_arr(arr):\n",
    "    for i in range(0,len(arr)):\n",
    "        for j in range(i,len(arr[0])):\n",
    "            arr[i][j],arr[j][i]=arr[j][i],arr[i][j]\n",
    "    print(arr)#trnapose of array\n",
    "    for item in range(0,len(arr)):\n",
    "        temp=arr[item]\n",
    "        arr[item]=temp[::-1]\n",
    "    print(\"clockwise array is  \",arr)\n",
    "rotated_clockwise_arr(arr)"
   ]
  },
  {
   "cell_type": "code",
   "execution_count": null,
   "metadata": {},
   "outputs": [],
   "source": [
    "#rotate image anti-clockwise\n",
    "arr=[[1,2,3],[4,5,6],[7,8,9]]\n",
    "#rotetd arr=[[7,4,1],[8,5,2],[9,6,3]]\n",
    "def rotated_clockwise_arr(arr):\n",
    "    for i in range(0,len(arr)):\n",
    "        for j in range(i,len(arr[0])):\n",
    "            arr[i][j],arr[j][i]=arr[j][i],arr[i][j]\n",
    "    print(arr)#trnapose of array\n",
    "    print(\"anti clock wise \",arr[::-1])\n",
    "rotated_clockwise_arr(arr)"
   ]
  },
  {
   "cell_type": "code",
   "execution_count": null,
   "metadata": {},
   "outputs": [],
   "source": [
    "#next permutation\n",
    "#find first element from right such that a[i]<a[i+1] in linear traversal\n",
    "#again traverse from back and swap with first element which s is greater than index in last step\n",
    "#swap them \n",
    "#reverse the other part \n",
    "def next_permutation(arr):\n",
    "    for item in range(len(arr)-1,0,-1):\n",
    "        if arr[item] > arr[item-1]:\n",
    "            index=item-1\n",
    "            break\n",
    "    print(\"index is \",index)\n",
    "    for item in range(len(arr)-1,0,-1):\n",
    "        if arr[item]> arr[index]:\n",
    "            arr[item],arr[index]=arr[index],arr[item]\n",
    "            break\n",
    "    print(\" arr is \",arr)\n",
    "    before_index=arr[:index+1]\n",
    "    after_index=arr[index+1:]\n",
    "    after_index=after_index[::-1]\n",
    "    print(f\"next permutaion is \",before_index+after_index)\n",
    "next_permutation([1,3,5,4,2])"
   ]
  },
  {
   "cell_type": "code",
   "execution_count": null,
   "metadata": {},
   "outputs": [],
   "source": [
    "#pascal triangle\n",
    "def pascal_triangle(n,row,col):\n",
    "    #for row and column we find row-1ccol-1\n",
    "    row=row-1\n",
    "    m=1\n",
    "    column=col-1\n",
    "    while column !=0:\n",
    "        m=m*row\n",
    "        row-=1\n",
    "        column-=1\n",
    "    col=col-1\n",
    "    col=factorial(col)\n",
    "    print(\"row is \",m,\" column is \",col)\n",
    "    return (m//col)\n",
    "def factorial(col):\n",
    "    res=1\n",
    "    while col!=0:\n",
    "        res=res*col\n",
    "        col-=1\n",
    "    return res\n",
    "print(pascal_triangle(5,5,4))"
   ]
  },
  {
   "cell_type": "code",
   "execution_count": null,
   "metadata": {},
   "outputs": [],
   "source": [
    "#set matrix zero if any row or column is zero\n",
    "arr=[\n",
    "    [1,0,1],\n",
    "    [1,1,1],\n",
    "    [0,1,1]\n",
    "]\n",
    "row_bool=[1]*len(arr)\n",
    "col_bool=[1]*len(arr[0])\n",
    "def set_matrix(arr):\n",
    "    for i in range(0,len(arr)):\n",
    "        for j in range(0,len(arr[0])):\n",
    "            if arr[i][j] == 0:\n",
    "                row_bool[i]=0\n",
    "                col_bool[j]=0\n",
    "    print(\"row_bool \",row_bool)\n",
    "    print(\"col_bool \",col_bool)\n",
    "    for i in range(0,len(arr)):\n",
    "        for j in range(0,len(arr[0])):\n",
    "            if row_bool[i]==0 or col_bool[j]==0:\n",
    "                arr[i][j]=0\n",
    "    print(\"set array is \",arr)\n",
    "set_matrix(arr)"
   ]
  },
  {
   "cell_type": "code",
   "execution_count": null,
   "metadata": {},
   "outputs": [],
   "source": [
    "#merge interval\n",
    "interval=[[1,3],[2,6],[8,10],[11,18]]\n",
    "merge_conflict_count=0\n",
    "def merge_interval(interval):\n",
    "    global merge_conflict_count\n",
    "    li=[]\n",
    "    curr=interval[0]\n",
    "    for item in range(1,len(interval)):\n",
    "        if curr[1] > interval[item][0]:\n",
    "            curr=[curr[0],interval[item][1]]\n",
    "            merge_conflict_count+=1\n",
    "        else:\n",
    "            li.append(curr)\n",
    "            curr=interval[item]\n",
    "    li.append(curr)\n",
    "    print(li)\n",
    "merge_interval(interval)"
   ]
  },
  {
   "cell_type": "code",
   "execution_count": null,
   "metadata": {},
   "outputs": [],
   "source": [
    "#combination sum (variation of unbounded knapsack)\n",
    "arr=[2,3,6,7]\n",
    "target = 7\n",
    "li=[]\n",
    "result_list=[]\n",
    "def combination_sum(arr,target,i):\n",
    "    if target ==0:\n",
    "        print(\"li is \",li)\n",
    "        result_list.append(list(li))#deep copy\n",
    "        return \n",
    "    if len(arr)==i :\n",
    "        return \n",
    "    if target <0:\n",
    "        return\n",
    "    #print(\" li is \",li,arr)\n",
    "    #include and exclude logic\n",
    "    #print(li)\n",
    "    if arr[i]<=target:\n",
    "        li.append(arr[i])\n",
    "        combination_sum(arr,target-arr[i],i)\n",
    "        li.remove(arr[i])\n",
    "    combination_sum(arr,target,i+1)\n",
    "    return result_list\n",
    "print(combination_sum(arr,target,0))"
   ]
  },
  {
   "cell_type": "code",
   "execution_count": null,
   "metadata": {},
   "outputs": [],
   "source": [
    "#All unique combinations whose sum equals to K\n",
    "#each number used only once in sum\n",
    "#combination sum (variation of bounded knapsack)\n",
    "arr=[2,2,2]\n",
    "target = 4\n",
    "#ans should be {1,2},{3}\n",
    "li=[]\n",
    "result_list=[]\n",
    "d={}\n",
    "def combination_sum_bounded(arr,target,i):\n",
    "    if target ==0:\n",
    "        print(\"li is \",li)\n",
    "        result_list.append(list(li))#deep copy\n",
    "        return \n",
    "    if len(arr)==i :\n",
    "        return \n",
    "    if target <0:\n",
    "        return\n",
    "    #print(\" li is \",li,arr)\n",
    "    #include and exclude logic\n",
    "    #print(li)\n",
    "    if arr[i] <= target:\n",
    "        d[i]=arr[i]\n",
    "        #print(d)\n",
    "        li.append(arr[i])\n",
    "        combination_sum_bounded(arr,target-arr[i],i+1)\n",
    "        li.remove(arr[i])\n",
    "    while i<len(arr)-1 and arr[i]==arr[i+1]:\n",
    "        i+=1\n",
    "    combination_sum_bounded(arr,target,i+1)\n",
    "    return result_list\n",
    "print(combination_sum_bounded(arr,target,0))"
   ]
  },
  {
   "cell_type": "code",
   "execution_count": null,
   "metadata": {},
   "outputs": [],
   "source": [
    "#pallindromic partitioning\n",
    "res=[]\n",
    "li=[]\n",
    "def pallindromic_partitioning(arr):\n",
    "    #print(\"index is \",arr)\n",
    "    if len(arr)==0:\n",
    "        #print(\"li is \",li)\n",
    "        res.append(list(li))\n",
    "        return\n",
    "    for item in range(1,len(arr)+1):\n",
    "        temp=arr[:item]\n",
    "        if temp==temp[::-1]:\n",
    "            li.append(\"\".join(temp))\n",
    "            pallindromic_partitioning(arr[item:])\n",
    "            li.remove(\"\".join(temp))\n",
    "    return res\n",
    "print(pallindromic_partitioning([\"a\",\"a\",\"b\",\"b\"]))"
   ]
  },
  {
   "cell_type": "code",
   "execution_count": null,
   "metadata": {},
   "outputs": [],
   "source": [
    "#subset sum\n",
    "#generate all the possible subset and find sum of it\n",
    "arr=[1,2,3]\n",
    "def subset_sum(arr,i):\n",
    "    if i==len(arr):\n",
    "        print(\"li\",li,sum(li))\n",
    "        return \n",
    "    #based on include and exclude priciple\n",
    "    li.append(arr[i])\n",
    "    subset_sum(arr,i+1)\n",
    "    li.remove(arr[i])\n",
    "    subset_sum(arr,i+1)\n",
    "subset_sum(arr,0)"
   ]
  },
  {
   "cell_type": "code",
   "execution_count": null,
   "metadata": {},
   "outputs": [],
   "source": [
    "from visualiser.visualiser import Visualiser as vs"
   ]
  },
  {
   "cell_type": "code",
   "execution_count": null,
   "metadata": {},
   "outputs": [],
   "source": [
    "li=[]\n",
    "res=[]\n",
    "s=set()\n",
    "arr=[1,2,2]\n",
    "d=dict()\n",
    "@vs(node_properties_kwargs={\"shape\":\"record\", \"color\":\"#f57542\", \"style\":\"filled\", \"fillcolor\":\"grey\"})\n",
    "def subset_sum_without_duplicate(arr,i):\n",
    "    if i == len(arr):\n",
    "        #print(li)\n",
    "        res.append(list(li))\n",
    "        return res\n",
    "    if i>len(arr):\n",
    "        return\n",
    "    #include exclude logic \n",
    "    li.append(arr[i])\n",
    "    subset_sum_without_duplicate(arr,i+1)#include\n",
    "    li.remove(arr[i])\n",
    "    while i<len(arr)-1 and arr[i]==arr[i+1]:\n",
    "        i+=1\n",
    "    subset_sum_without_duplicate(arr,i+1)#exclude\n",
    "    return res\n",
    "print(subset_sum_without_duplicate(arr,0))\n",
    "#vs.make_animation(\"subset_without_duplicate.gif\", delay=2)\n",
    "vs.write_image(\"subset_without_duplicate.png\")"
   ]
  },
  {
   "cell_type": "code",
   "execution_count": null,
   "metadata": {},
   "outputs": [],
   "source": [
    "import os\n",
    "os.environ[\"PATH\"] += os.pathsep +  'C:/Program Files (x86)/Graphviz/bin/' "
   ]
  },
  {
   "cell_type": "code",
   "execution_count": null,
   "metadata": {},
   "outputs": [],
   "source": [
    "!pip install recursion-visualiser"
   ]
  },
  {
   "cell_type": "code",
   "execution_count": null,
   "metadata": {},
   "outputs": [],
   "source": [
    "#kth permutaion leet code level hard\n",
    "li=[1,2,3]\n",
    "x=\"\"\n",
    "k,n=2,3\n",
    "block=-99\n",
    "def kth_permutation_sequence(li,k,n):\n",
    "    global x,block\n",
    "    while len(li)>1:\n",
    "        print(\"li \",li,\" k \",k,\" n \",n,\"block \",block)\n",
    "        n_fact=fact(n-1)\n",
    "        block=k//n_fact\n",
    "        if k%n_fact == 0:\n",
    "            block = block -1\n",
    "        x+=str(li[block])\n",
    "        li.remove(li[block])\n",
    "        n=n-1\n",
    "        k=k-fact(n)*block\n",
    "    x+=str(li[0])\n",
    "    print(x)\n",
    "kth_permutation_sequence(li,k,n)"
   ]
  },
  {
   "cell_type": "code",
   "execution_count": null,
   "metadata": {},
   "outputs": [],
   "source": [
    "def fact(n):\n",
    "    if n==1:\n",
    "        return 1\n",
    "    return n*fact(n-1)"
   ]
  },
  {
   "cell_type": "code",
   "execution_count": null,
   "metadata": {},
   "outputs": [],
   "source": [
    "#coin change problem (variation of unbounded knapsack)\n",
    "count=0\n",
    "li=[]\n",
    "@vs(node_properties_kwargs={\"shape\":\"record\", \"color\":\"#f57542\", \"style\":\"filled\", \"fillcolor\":\"grey\"})\n",
    "def coin_change(arr,i,val):\n",
    "    global count\n",
    "    if i==len(arr):\n",
    "        return\n",
    "    if val == 0:\n",
    "        print(\"li\",li)\n",
    "        count+=1\n",
    "        return\n",
    "    if val < 0 or arr[i]>val:\n",
    "        return \n",
    "    \n",
    "    #include\n",
    "    li.append(arr[i])\n",
    "    coin_change(arr,i,val-arr[i])\n",
    "    li.remove(arr[i])\n",
    "    #exclude\n",
    "    coin_change(arr,i+1,val)\n",
    "    return count\n",
    "print(coin_change([1,2,3],0,5))\n",
    "vs.write_image(\"coin_change.png\")"
   ]
  },
  {
   "cell_type": "code",
   "execution_count": null,
   "metadata": {},
   "outputs": [],
   "source": [
    "def dungeon_game(arr,i,j,points):\n",
    "    if i< 0 or j<0:\n",
    "        return 9999999\n",
    "    if i==0 and j==0:\n",
    "        print(points)\n",
    "        return points\n",
    "    if points < 0:\n",
    "        return 1\n",
    "    up=dungeon_game(arr,i-1,j,points-arr[i-1][j])#move up\n",
    "    left=dungeon_game(arr,i,j-1,points-arr[i][j-1])#move left\n",
    "    "
   ]
  },
  {
   "cell_type": "code",
   "execution_count": 16,
   "metadata": {},
   "outputs": [],
   "source": [
    "from collections import defaultdict\n",
    "adj_list={\n",
    "    0:[1,2],\n",
    "    1:[2],\n",
    "    2:[0,3],\n",
    "    3:[3]\n",
    "}\n",
    "visited=defaultdict()"
   ]
  },
  {
   "cell_type": "code",
   "execution_count": 7,
   "metadata": {},
   "outputs": [
    {
     "name": "stdout",
     "output_type": "stream",
     "text": [
      "2 defaultdict(None, {})\n",
      "0 defaultdict(None, {2: True})\n",
      "1 defaultdict(None, {2: True, 0: True})\n",
      "3 defaultdict(None, {2: True, 0: True, 1: True})\n"
     ]
    }
   ],
   "source": [
    "def dfs(adj_list,item):\n",
    "    print(item,visited)\n",
    "    li = adj_list[item]\n",
    "    visited[item]=True\n",
    "    for x in li:\n",
    "        if x not in visited:\n",
    "            dfs(adj_list,x)\n",
    "            \n",
    "dfs(adj_list,2)"
   ]
  },
  {
   "cell_type": "code",
   "execution_count": 17,
   "metadata": {},
   "outputs": [
    {
     "name": "stdout",
     "output_type": "stream",
     "text": [
      "2\n",
      "0\n",
      "3\n",
      "1\n"
     ]
    }
   ],
   "source": [
    "def bfs(adj_list,visited):\n",
    "    while len(q)>0:\n",
    "        item=q[0]\n",
    "        print(item)\n",
    "        visited[item]=True\n",
    "        li = adj_list[item]\n",
    "        q.remove(item)\n",
    "        for x in li:\n",
    "            if x not in visited:\n",
    "                q.append(x)\n",
    "q=[]\n",
    "q.append(2)\n",
    "bfs(adj_list,visited)"
   ]
  },
  {
   "cell_type": "code",
   "execution_count": 61,
   "metadata": {},
   "outputs": [],
   "source": [
    "boolean=False\n",
    "def detect_cycle_undirected_graph(adj_lst,node,visited,parent): \n",
    "    global boolean\n",
    "    print(\" visisted \",visited)\n",
    "    src=node\n",
    "    li = adj_list[src]\n",
    "    visited[src]=True\n",
    "    for x in li:\n",
    "        if x not in visited:\n",
    "            parent[x]=src\n",
    "            detect_cycle_undirected_graph(adj_list,x,visited,parent)\n",
    "        else:#that means it is visited\n",
    "            if parent[src] != x and parent[x] !=-1:\n",
    "                print(\"There is cycle for \",x,\" src is \",src,\" parent\",parent)\n",
    "                boolean=True\n",
    "                return boolean\n",
    "    return boolean"
   ]
  },
  {
   "cell_type": "code",
   "execution_count": 62,
   "metadata": {},
   "outputs": [
    {
     "name": "stdout",
     "output_type": "stream",
     "text": [
      " visisted  defaultdict(None, {})\n",
      " visisted  defaultdict(None, {0: True})\n",
      " visisted  defaultdict(None, {0: True, 1: True})\n",
      " visisted  defaultdict(None, {0: True, 1: True, 2: True})\n",
      "There is cycle for  1  src is  3  parent defaultdict(None, {0: -1, 1: 0, 2: 1, 3: 2})\n",
      "There is cycle for  3  src is  1  parent defaultdict(None, {0: -1, 1: 0, 2: 1, 3: 2})\n"
     ]
    },
    {
     "data": {
      "text/plain": [
       "True"
      ]
     },
     "execution_count": 62,
     "metadata": {},
     "output_type": "execute_result"
    }
   ],
   "source": [
    "from collections import defaultdict\n",
    "adj_list={\n",
    "    0:[1],\n",
    "    1:[0,2,3],\n",
    "    2:[1,3],\n",
    "    3:[1,2]\n",
    "}\n",
    "visited=defaultdict()\n",
    "parent=defaultdict()\n",
    "parent[0]=-1\n",
    "detect_cycle_undirected_graph(adj_list,0,visited,parent)"
   ]
  },
  {
   "cell_type": "code",
   "execution_count": 76,
   "metadata": {},
   "outputs": [
    {
     "name": "stdout",
     "output_type": "stream",
     "text": [
      "0\n",
      "1\n",
      "2\n",
      "3\n",
      "4\n",
      "ans is  2\n"
     ]
    }
   ],
   "source": [
    "ans=0\n",
    "def friend_circle_bfs(adj_list,visited):\n",
    "    global ans\n",
    "    q=[]\n",
    "    for i in range(0,len(visited)):\n",
    "        if visited[i]==False:\n",
    "            q.append(i)\n",
    "            while len(q)>0:\n",
    "                item=q[0]\n",
    "                print(item)\n",
    "                visited[item]=True\n",
    "                if item in adj_list:\n",
    "                    li = adj_list[item]\n",
    "                    q.remove(item)\n",
    "                    for x in li:\n",
    "                        if visited[x]==False:\n",
    "                            q.append(x)\n",
    "                else:\n",
    "                    break\n",
    "            ans+=1#we have found one connected circle of friend\n",
    "    print(\"ans is \",ans)\n",
    "adj_list={\n",
    "    0:[1],\n",
    "    1:[0,2],\n",
    "    2:[1],\n",
    "    3:[4]\n",
    "}\n",
    "visited=[False]*5\n",
    "friend_circle_bfs(adj_list,visited)"
   ]
  },
  {
   "cell_type": "code",
   "execution_count": 87,
   "metadata": {},
   "outputs": [],
   "source": [
    "ans=0\n",
    "def no_islands(arr): #in other words it is no of connected 1s\n",
    "    global ans\n",
    "    for i in range(0,len(arr)):\n",
    "        for j in range(0,len(arr[0])):\n",
    "            if arr[i][j]==\"1\": # now find all the connected 1s from this\n",
    "                check_neighbor_islands(arr,i,j)\n",
    "                ans+=1\n",
    "    print(\" no of islands is \",ans)\n",
    "def check_neighbor_islands(arr,i,j):\n",
    "    if i>=0 and i<len(arr) and j>=0 and j<len(arr[0]) and arr[i][j]==\"1\":\n",
    "        arr[i][j]=\"0\"\n",
    "        check_neighbor_islands(arr,i+1,j)\n",
    "        check_neighbor_islands(arr,i,j+1)\n",
    "        check_neighbor_islands(arr,i-1,j)\n",
    "        check_neighbor_islands(arr,i,j-1)"
   ]
  },
  {
   "cell_type": "code",
   "execution_count": 88,
   "metadata": {},
   "outputs": [
    {
     "name": "stdout",
     "output_type": "stream",
     "text": [
      " no of islands is  3\n"
     ]
    }
   ],
   "source": [
    "\n",
    "arr= [\n",
    "  [\"1\",\"1\",\"0\",\"0\",\"0\"],\n",
    "  [\"1\",\"1\",\"0\",\"0\",\"0\"],\n",
    "  [\"0\",\"0\",\"1\",\"0\",\"0\"],\n",
    "  [\"0\",\"0\",\"0\",\"1\",\"1\"]\n",
    "]\n",
    "no_islands(arr)"
   ]
  },
  {
   "cell_type": "code",
   "execution_count": 98,
   "metadata": {},
   "outputs": [
    {
     "name": "stdout",
     "output_type": "stream",
     "text": [
      "perimeter of island is  16\n"
     ]
    }
   ],
   "source": [
    "count=0\n",
    "def perimeter_island(arr):\n",
    "    global count\n",
    "    for i in range(0,len(arr)):\n",
    "        for j in range(0,len(arr[0])):\n",
    "            if arr[i][j]==1:\n",
    "                if (i+1)>=len(arr):#check if down is 1\n",
    "                    count+=1\n",
    "                else:\n",
    "                    if arr[i+1][j]==0:\n",
    "                        count+=1\n",
    "                if (i-1) < 0:\n",
    "                    count+=1\n",
    "                else:\n",
    "                     if arr[i-1][j]==0:\n",
    "                            count+=1\n",
    "                if (j+1) >= len(arr[0]):\n",
    "                    count+=1\n",
    "                else:\n",
    "                    if arr[i][j+1]==0:\n",
    "                        count+=1\n",
    "                if (j-1)<0:\n",
    "                    count+=1\n",
    "                else:\n",
    "                    if arr[i][j-1]==0:\n",
    "                        count+=1\n",
    "                arr[i][j]=-1\n",
    "    print(\"perimeter of island is \",count)\n",
    "    \n",
    "grid = [[0,1,0,0],[1,1,1,0],[0,1,0,0],[1,1,0,0]]\n",
    "perimeter_island(grid)"
   ]
  },
  {
   "cell_type": "code",
   "execution_count": 109,
   "metadata": {},
   "outputs": [
    {
     "name": "stdout",
     "output_type": "stream",
     "text": [
      "[True, True, False, True]\n"
     ]
    }
   ],
   "source": [
    "def keys_rooms_dfs(arr,i,visited):#can use bfs also\n",
    "    dt=arr[i]\n",
    "    visited[i]=True\n",
    "    for item in dt:\n",
    "        if item!=-1 and visited[item]==False:\n",
    "            keys_rooms_dfs(arr,item,visited)\n",
    "    #print(\"visited\",visited)\n",
    "    #return visited\n",
    "arr=[[1,3],[3,0,1],[2],[0]]\n",
    "visited=[False]*len(arr)\n",
    "keys_rooms_dfs(arr,0,visited)\n",
    "print(visited)"
   ]
  },
  {
   "cell_type": "code",
   "execution_count": 13,
   "metadata": {},
   "outputs": [
    {
     "name": "stdout",
     "output_type": "stream",
     "text": [
      " initial queue with rotten oranges are  [[0, 1], '-1']\n",
      "q is  [[0, 1], '-1']\n",
      "q is  ['-1']\n",
      " arr after entire iteration is   [[0, 2]]  time is  0\n"
     ]
    }
   ],
   "source": [
    "#0 means no oranges\n",
    "#1 means fresh oranges\n",
    "#2 means rotten oranges\n",
    "def rotten_oranges(arr):\n",
    "    q=[]\n",
    "    time=0\n",
    "    for i in range(0,len(arr)):\n",
    "        for j in range(0,len(arr[0])):\n",
    "            if arr[i][j]==2:\n",
    "                q.append([i,j])\n",
    "    q.append(\"-1\")\n",
    "    print(\" initial queue with rotten oranges are \",q)\n",
    "    #loop until queue ie empty and in each iteration increment the time\n",
    "    while len(q)>0:\n",
    "        print(\"q is \",q)\n",
    "        if q[0] == \"-1\":\n",
    "            if len(q) !=1:\n",
    "                q.append(\"-1\")\n",
    "                time+=1\n",
    "            q.remove(q[0])\n",
    "        else:\n",
    "            i,j=q[0][0],q[0][1]\n",
    "            if i<len(arr)-1 and arr[i+1][j] == 1:\n",
    "                q.append([i+1,j])\n",
    "                arr[i+1][j]=2\n",
    "            if i>0 and arr[i-1][j] == 1:\n",
    "                q.append([i-1,j])\n",
    "                arr[i-1][j]=2\n",
    "            if j>0 and arr[i][j-1] == 1:\n",
    "                q.append([i,j-1])\n",
    "                arr[i][j-1]=2\n",
    "            if j<len(arr[0])-1 and arr[i][j+1] == 1:\n",
    "                q.append([i,j+1])\n",
    "                arr[i][j+1]=2\n",
    "            q.remove(q[0])\n",
    "    print(\" arr after entire iteration is  \",arr,\" time is \",time)\n",
    "    \n",
    "#arr=[[2,1,1],[1,1,0],[0,1,1]]\n",
    "arr1=[[0,2]]\n",
    "rotten_oranges(arr1)"
   ]
  },
  {
   "cell_type": "code",
   "execution_count": 3,
   "metadata": {},
   "outputs": [
    {
     "name": "stdout",
     "output_type": "stream",
     "text": [
      "time is  5\n"
     ]
    }
   ],
   "source": [
    "#snake ladder problem\n",
    "position_dict={\n",
    "    2:15,\n",
    "    17:13,\n",
    "    14:35\n",
    "}\n",
    "def snake_ladder(visited):\n",
    "    time=0\n",
    "    q=[]\n",
    "    q.append(1)\n",
    "    q.append(\"-1\")\n",
    "    while len(q)>0:\n",
    "        temp=q[0]\n",
    "        if temp == \"-1\":\n",
    "            if len(q) !=1:\n",
    "                q.append(\"-1\")\n",
    "                time+=1\n",
    "        else:\n",
    "            if temp == 36:\n",
    "                break\n",
    "            if visited[temp-1] == False and temp in position_dict:\n",
    "                q.append(position_dict[temp])\n",
    "            #add all the elements reachable from this\n",
    "            q.append(temp+1)\n",
    "            q.append(temp+2)\n",
    "            q.append(temp+3)\n",
    "            q.append(temp+4)\n",
    "            q.append(temp+5)\n",
    "            q.append(temp+6)\n",
    "            visited[temp-1]=True\n",
    "        q.remove(q[0])\n",
    "        \n",
    "    print(\"time is \",time)\n",
    "visited=[False]*36\n",
    "snake_ladder(visited)"
   ]
  },
  {
   "cell_type": "code",
   "execution_count": 34,
   "metadata": {},
   "outputs": [
    {
     "name": "stdout",
     "output_type": "stream",
     "text": [
      "[[2, 500, 0]]\n"
     ]
    }
   ],
   "source": [
    "def cheapest_flight_k_stop(stop_price,src,dest,k):\n",
    "    counter=0\n",
    "    q=[]\n",
    "    min_price_list=[]\n",
    "    q.append([src,0,counter])\n",
    "    while len(q)>0:\n",
    "        temp=q[0]\n",
    "        src=temp[0]\n",
    "        stop_list=stop_price[src]\n",
    "        for i in range(0,len(stop_list)):\n",
    "            if stop_list[i][0]!=dest :\n",
    "                q.append([stop_list[i][0],temp[1]+stop_list[i][1],temp[2]+1])\n",
    "            else:\n",
    "                q.append([stop_list[i][0],temp[1]+stop_list[i][1],temp[2]])\n",
    "        if src==dest and temp[2]<=k:\n",
    "            min_price_list.append(temp)\n",
    "        #remove src from queue\n",
    "        q.remove(temp)\n",
    "    print(min_price_list)\n",
    "    #print(\"min price is \",min(min_price_list))\n",
    "stop_price={\n",
    "    0:[[1,100],[2,500]],\n",
    "    1:[[2,100]],\n",
    "    2:[]\n",
    "}\n",
    "cheapest_flight_k_stop(stop_price,0,2,0)"
   ]
  },
  {
   "cell_type": "code",
   "execution_count": 40,
   "metadata": {},
   "outputs": [
    {
     "name": "stdout",
     "output_type": "stream",
     "text": [
      "[[0, 1, 4]]\n",
      "[[0, 1, 4], [0, 2, 4]]\n",
      "[[0, 1, 4], [0, 2, 4], [0, 3, 4]]\n",
      "[[0, 1, 4], [0, 2, 4], [0, 3, 4]]\n",
      "[[0, 1, 4], [0, 2, 4], [0, 3, 4]]\n"
     ]
    }
   ],
   "source": [
    "global_li=[]\n",
    "def all_path_source_target(adj_list,src,dest,li):\n",
    "    global global_li\n",
    "    if src==dest:\n",
    "        global_li.append(list(li))\n",
    "        return\n",
    "    temp=adj_list[src]\n",
    "    for item in temp:\n",
    "        li.append(item)\n",
    "        all_path_source_target(adj_list,item,dest,li)\n",
    "        li.remove(item)\n",
    "    print(global_li)\n",
    "    return global_li\n",
    "adj_list={\n",
    "    0:[1,2,3],\n",
    "    1:[4],\n",
    "    2:[4],\n",
    "    3:[4]\n",
    "}\n",
    "print(all_path_source_target(adj_list,0,4,[0]))"
   ]
  },
  {
   "cell_type": "code",
   "execution_count": 20,
   "metadata": {},
   "outputs": [
    {
     "name": "stdout",
     "output_type": "stream",
     "text": [
      "li  [5, 4, 2, 3, 1, 0]\n"
     ]
    }
   ],
   "source": [
    "li=[]\n",
    "def topological_sort_dfs(adj_list,visited):\n",
    "    global li\n",
    "    for item in range(0,len(visited)):\n",
    "        if visited[item]==False:\n",
    "            visited[item]=True\n",
    "            dfs(adj_list,item,visited,li)\n",
    "    print(\"li \",li)\n",
    "def dfs(adj_list,src,visited,li):\n",
    "    if src in adj_list:\n",
    "        temp=adj_list[src]\n",
    "        for item in temp:\n",
    "            if visited[item]==False:\n",
    "                visited[item]=True\n",
    "                dfs(adj_list,item,visited,li)\n",
    "    li.insert(0,src)\n",
    "adj_list={\n",
    "    5:[2,0],\n",
    "    4:[0,1],\n",
    "    2:[3],\n",
    "    3:[1]\n",
    "}\n",
    "visited=[False]*6\n",
    "topological_sort_dfs(adj_list,visited)"
   ]
  },
  {
   "cell_type": "code",
   "execution_count": 36,
   "metadata": {},
   "outputs": [
    {
     "name": "stdout",
     "output_type": "stream",
     "text": [
      "graph is biparrite\n"
     ]
    }
   ],
   "source": [
    "q=[]\n",
    "def is_biparite(adj_list,src,visited):\n",
    "    global q\n",
    "    biparite=True\n",
    "    q.append(src)\n",
    "    visited[src]=0#for blue\n",
    "    while len(q)>0:\n",
    "        temp = q[0]\n",
    "        #print(\"temp is \",temp,visited)\n",
    "        q.remove(q[0])\n",
    "        if temp in adj_list:\n",
    "            for item in adj_list[temp]:\n",
    "                if visited[item] == -1:#if its not visited\n",
    "                    visited[item]=1-visited[temp]\n",
    "                    q.append(item)\n",
    "                else:#its visited\n",
    "                    #now check if colors are same \n",
    "                    #print(\"visited[temp],visited[item] is \",visited[temp] ,visited[item])\n",
    "                    if visited[temp] == visited[item]:\n",
    "                        biparite=False\n",
    "                        break\n",
    "        if biparite==False:\n",
    "            break\n",
    "    if biparite==True:\n",
    "        print(\"graph is biparrite\")\n",
    "    else:\n",
    "        print(\"graph is not biparite\")\n",
    "adj_list={\n",
    "    0:[1,2],\n",
    "    1:[0]\n",
    "}\n",
    "visited=[-1]*3\n",
    "is_biparite(adj_list,0,visited)"
   ]
  }
 ],
 "metadata": {
  "kernelspec": {
   "display_name": "Python 3",
   "language": "python",
   "name": "python3"
  },
  "language_info": {
   "codemirror_mode": {
    "name": "ipython",
    "version": 3
   },
   "file_extension": ".py",
   "mimetype": "text/x-python",
   "name": "python",
   "nbconvert_exporter": "python",
   "pygments_lexer": "ipython3",
   "version": "3.7.6"
  }
 },
 "nbformat": 4,
 "nbformat_minor": 4
}
